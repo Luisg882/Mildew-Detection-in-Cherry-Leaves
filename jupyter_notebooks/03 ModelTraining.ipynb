{
  "cells": [
    {
      "cell_type": "markdown",
      "metadata": {
        "id": "0aStgWSO0E0E"
      },
      "source": [
        "# **Model Training**"
      ]
    },
    {
      "cell_type": "markdown",
      "metadata": {
        "id": "1eLEkw5O0ECa"
      },
      "source": [
        "## Objectives\n",
        "\n",
        "* Create the Machine Learning model to predict healty and powdery mildew cherry leaves to answer business requirement 2.\n",
        "\n",
        "## Inputs\n",
        "\n",
        "* inputs/mildew_detection_in_cherry_leaves/cherry-leaves/test.\n",
        "* inputs/mildew_detection_in_cherry_leaves/cherry-leaves/train.\n",
        "* inputs/mildew_detection_in_cherry_leaves/cherry-leaves/validation.\n",
        "\n",
        "## Outputs\n",
        "\n",
        "* Image aumentation.\n",
        "* Images distribution plot in train, validation, and test set.\n",
        "* Create Machine learning model and training.\n",
        "* Save model.\n",
        "* Learning curve plot for model performance.\n",
        "* Model evaluation\n",
        "* Prediction of the random image file.\n",
        "\n",
        "## Additional Comments\n",
        "\n",
        "* In case you have any additional comments that don't fit in the previous bullets, please state them here. \n",
        "\n"
      ]
    },
    {
      "cell_type": "markdown",
      "metadata": {
        "id": "9uWZXH9LwoQg"
      },
      "source": [
        "---"
      ]
    },
    {
      "cell_type": "markdown",
      "metadata": {
        "id": "cqP-UeN-z3i2"
      },
      "source": [
        "## Import libraries"
      ]
    },
    {
      "cell_type": "code",
      "execution_count": 1,
      "metadata": {},
      "outputs": [],
      "source": [
        "import os\n",
        "import pandas as pd\n",
        "import numpy as np\n",
        "import matplotlib.pyplot as plt\n",
        "import seaborn as sns\n",
        "import joblib\n",
        "sns.set_style(\"white\")\n",
        "from matplotlib.image import imread"
      ]
    },
    {
      "cell_type": "markdown",
      "metadata": {},
      "source": [
        "## Set working directory"
      ]
    },
    {
      "cell_type": "code",
      "execution_count": 2,
      "metadata": {
        "id": "wZfF_j-Bz3i4",
        "outputId": "66943449-1436-4c3d-85c7-b85f9f78349b"
      },
      "outputs": [
        {
          "data": {
            "text/plain": [
              "'/workspace/mildew-detection-in-cherry-leaves/jupyter_notebooks'"
            ]
          },
          "execution_count": 2,
          "metadata": {},
          "output_type": "execute_result"
        }
      ],
      "source": [
        "import os\n",
        "current_dir = os.getcwd()\n",
        "current_dir"
      ]
    },
    {
      "cell_type": "code",
      "execution_count": 3,
      "metadata": {
        "id": "TwHsQRWjz3i9",
        "outputId": "86849db3-cd2f-4cc5-ebb8-2d0caafa1a2c"
      },
      "outputs": [
        {
          "name": "stdout",
          "output_type": "stream",
          "text": [
            "You set a new current directory\n"
          ]
        }
      ],
      "source": [
        "os.chdir(os.path.dirname(current_dir))\n",
        "print(\"You set a new current directory\")"
      ]
    },
    {
      "cell_type": "markdown",
      "metadata": {
        "id": "M_xPk_Ijz3i-"
      },
      "source": [
        "Confirm the new current directory"
      ]
    },
    {
      "cell_type": "code",
      "execution_count": 4,
      "metadata": {
        "id": "vz3S-_kjz3jA",
        "outputId": "00b79ae4-75d0-4a96-d193-ac9ef9847ea2"
      },
      "outputs": [
        {
          "data": {
            "text/plain": [
              "'/workspace/mildew-detection-in-cherry-leaves'"
            ]
          },
          "execution_count": 4,
          "metadata": {},
          "output_type": "execute_result"
        }
      ],
      "source": [
        "current_dir = os.getcwd()\n",
        "current_dir"
      ]
    },
    {
      "cell_type": "markdown",
      "metadata": {},
      "source": [
        "---"
      ]
    },
    {
      "cell_type": "markdown",
      "metadata": {},
      "source": [
        "# Set input directories"
      ]
    },
    {
      "cell_type": "markdown",
      "metadata": {},
      "source": [
        "Set train, validation and test paths."
      ]
    },
    {
      "cell_type": "code",
      "execution_count": 5,
      "metadata": {},
      "outputs": [],
      "source": [
        "my_data_dir = 'inputs/mildew_detection_in_cherry_leaves/cherry-leaves'\n",
        "train_path = my_data_dir + '/train'\n",
        "val_path = my_data_dir + '/validation'\n",
        "test_path = my_data_dir + '/test'"
      ]
    },
    {
      "cell_type": "markdown",
      "metadata": {},
      "source": [
        "---"
      ]
    },
    {
      "cell_type": "markdown",
      "metadata": {},
      "source": [
        "# Set output directory"
      ]
    },
    {
      "cell_type": "markdown",
      "metadata": {},
      "source": [
        "Create Output directory"
      ]
    },
    {
      "cell_type": "code",
      "execution_count": 6,
      "metadata": {},
      "outputs": [
        {
          "name": "stdout",
          "output_type": "stream",
          "text": [
            "Old version is already available create a new version.\n"
          ]
        }
      ],
      "source": [
        "version = 'v1'\n",
        "file_path = f'outputs/{version}'\n",
        "\n",
        "if 'outputs' in os.listdir(current_dir) and version in os.listdir(current_dir + '/outputs'):\n",
        "    print('Old version is already available create a new version.')\n",
        "    pass\n",
        "else:\n",
        "    os.makedirs(name=file_path)"
      ]
    },
    {
      "cell_type": "markdown",
      "metadata": {},
      "source": [
        "### Set label names"
      ]
    },
    {
      "cell_type": "code",
      "execution_count": 7,
      "metadata": {},
      "outputs": [
        {
          "name": "stdout",
          "output_type": "stream",
          "text": [
            "Label for the images are ['healthy', 'powdery_mildew']\n"
          ]
        }
      ],
      "source": [
        "labels = os.listdir(train_path)\n",
        "print('Label for the images are', labels)"
      ]
    },
    {
      "cell_type": "markdown",
      "metadata": {},
      "source": [
        "---"
      ]
    },
    {
      "cell_type": "markdown",
      "metadata": {
        "id": "-mavJ8DibrcQ"
      },
      "source": [
        "# Resize Images"
      ]
    },
    {
      "cell_type": "markdown",
      "metadata": {},
      "source": [
        "To avoid having a file bigger than 100mb to push in github, we are going to recize the all images from 256x256 to 100x100."
      ]
    },
    {
      "cell_type": "markdown",
      "metadata": {},
      "source": [
        "First we install scikit-image to use the resize function"
      ]
    },
    {
      "cell_type": "code",
      "execution_count": 8,
      "metadata": {},
      "outputs": [
        {
          "name": "stdout",
          "output_type": "stream",
          "text": [
            "Requirement already satisfied: scikit-image in /workspace/.pip-modules/lib/python3.8/site-packages (0.21.0)\n",
            "Requirement already satisfied: numpy>=1.21.1 in /workspace/.pip-modules/lib/python3.8/site-packages (from scikit-image) (1.24.4)\n",
            "Requirement already satisfied: scipy>=1.8 in /workspace/.pip-modules/lib/python3.8/site-packages (from scikit-image) (1.9.3)\n",
            "Requirement already satisfied: networkx>=2.8 in /workspace/.pip-modules/lib/python3.8/site-packages (from scikit-image) (3.1)\n",
            "Requirement already satisfied: pillow>=9.0.1 in /workspace/.pip-modules/lib/python3.8/site-packages (from scikit-image) (10.4.0)\n",
            "Requirement already satisfied: imageio>=2.27 in /workspace/.pip-modules/lib/python3.8/site-packages (from scikit-image) (2.35.1)\n",
            "Requirement already satisfied: tifffile>=2022.8.12 in /workspace/.pip-modules/lib/python3.8/site-packages (from scikit-image) (2023.7.10)\n",
            "Requirement already satisfied: PyWavelets>=1.1.1 in /workspace/.pip-modules/lib/python3.8/site-packages (from scikit-image) (1.4.1)\n",
            "Requirement already satisfied: packaging>=21 in /home/gitpod/.pyenv/versions/3.8.18/lib/python3.8/site-packages (from scikit-image) (24.1)\n",
            "Requirement already satisfied: lazy_loader>=0.2 in /workspace/.pip-modules/lib/python3.8/site-packages (from scikit-image) (0.4)\n",
            "Note: you may need to restart the kernel to use updated packages.\n"
          ]
        }
      ],
      "source": [
        "%pip install scikit-image"
      ]
    },
    {
      "cell_type": "markdown",
      "metadata": {},
      "source": [
        "Create loop trough the files and plot the new standard size"
      ]
    },
    {
      "cell_type": "code",
      "execution_count": 9,
      "metadata": {},
      "outputs": [
        {
          "data": {
            "image/png": "[encoded data removed]",
            "text/plain": [
              "<Figure size 1000x800 with 1 Axes>"
            ]
          },
          "metadata": {},
          "output_type": "display_data"
        },
        {
          "name": "stdout",
          "output_type": "stream",
          "text": [
            "Resized Image Width: 100 pixels\n",
            "Resized Image Height: 100 pixels\n"
          ]
        }
      ],
      "source": [
        "from skimage.transform import resize\n",
        "\n",
        "# Create a dictionaty with all direcories\n",
        "datasets = {\n",
        "    'train': train_path,\n",
        "    'test': train_path,\n",
        "    'validation': val_path\n",
        "}\n",
        "\n",
        "# New size parameters\n",
        "new_height, new_width = 100, 100\n",
        "\n",
        "# New list of dimentions\n",
        "dim1, dim2 = [], []\n",
        "\n",
        "# Loop through each dataset to change the size\n",
        "for dataset_name, dataset_path in datasets.items():\n",
        "    # Loop through the labels\n",
        "    labels = ['healthy', 'powdery_mildew']\n",
        "    for label in labels:\n",
        "        label_dir = os.path.join(dataset_path, label)\n",
        "        for image_filename in os.listdir(label_dir):\n",
        "            # Read the image\n",
        "            img = imread(os.path.join(label_dir, image_filename))\n",
        "            \n",
        "            # Resize the image to 100x100 pixels\n",
        "            img_resized = resize(img, (new_height, new_width), anti_aliasing=True)\n",
        "            \n",
        "            # Store the new dimensions (which will always be 100x100)\n",
        "            d1, d2, colors = img_resized.shape\n",
        "            dim1.append(d1)  # image height\n",
        "            dim2.append(d2)  # image width\n",
        "\n",
        "# Create scatterplot of resized image dimensions\n",
        "sns.set_style(\"whitegrid\")\n",
        "fig, axes = plt.subplots(figsize=(10, 8))\n",
        "sns.scatterplot(x=dim1, y=dim2, alpha=0.2)\n",
        "\n",
        "# Set axis labels\n",
        "axes.set_xlabel(\"Width (pixels)\")\n",
        "axes.set_ylabel(\"Height (pixels)\")\n",
        "\n",
        "# Compute and plot mean width and height lines\n",
        "dim1_mean = int(np.array(dim1).mean())\n",
        "dim2_mean = int(np.array(dim2).mean())\n",
        "axes.axvline(x=dim1_mean, color='r', linestyle='--', label=f'Avg Width: {dim1_mean}')\n",
        "axes.axhline(y=dim2_mean, color='r', linestyle='--', label=f'Avg Height: {dim2_mean}')\n",
        "plt.legend()\n",
        "\n",
        "# Show the plot\n",
        "plt.title(\"Scatter Plot of Resized Image Dimensions (100x100 pixels)\")\n",
        "plt.show()\n",
        "\n",
        "# Print the average dimensions (should always be 100x100)\n",
        "print(f\"Resized Image Width: {dim1_mean} pixels\")\n",
        "print(f\"Resized Image Height: {dim2_mean} pixels\")"
      ]
    },
    {
      "cell_type": "markdown",
      "metadata": {},
      "source": [
        "New size"
      ]
    },
    {
      "cell_type": "code",
      "execution_count": 11,
      "metadata": {},
      "outputs": [
        {
          "data": {
            "text/plain": [
              "(100, 100, 3)"
            ]
          },
          "execution_count": 11,
          "metadata": {},
          "output_type": "execute_result"
        }
      ],
      "source": [
        "image_average_size = (dim1_mean, dim2_mean, 3)\n",
        "image_average_size"
      ]
    },
    {
      "cell_type": "markdown",
      "metadata": {
        "id": "ZY3l0-AxO93d"
      },
      "source": [
        "---"
      ]
    },
    {
      "cell_type": "markdown",
      "metadata": {
        "id": "uFQo3ycuO-v6"
      },
      "source": [
        "# Section 2"
      ]
    },
    {
      "cell_type": "markdown",
      "metadata": {},
      "source": [
        "Section 2 content"
      ]
    },
    {
      "cell_type": "code",
      "execution_count": null,
      "metadata": {},
      "outputs": [],
      "source": []
    },
    {
      "cell_type": "markdown",
      "metadata": {},
      "source": [
        "---"
      ]
    },
    {
      "cell_type": "markdown",
      "metadata": {},
      "source": [
        "NOTE"
      ]
    },
    {
      "cell_type": "markdown",
      "metadata": {},
      "source": [
        "* You may add as many sections as you want, as long as it supports your project workflow.\n",
        "* All notebook's cells should be run top-down (you can't create a dynamic wherein a given point you need to go back to a previous cell to execute some task, like go back to a previous cell and refresh a variable content)"
      ]
    },
    {
      "cell_type": "markdown",
      "metadata": {},
      "source": [
        "---"
      ]
    },
    {
      "cell_type": "markdown",
      "metadata": {
        "id": "ltNetd085qHf"
      },
      "source": [
        "# Push files to Repo"
      ]
    },
    {
      "cell_type": "markdown",
      "metadata": {},
      "source": [
        "* If you don't need to push files to Repo, you may replace this section with \"Conclusions and Next Steps\" and state your conclusions and next steps."
      ]
    },
    {
      "cell_type": "code",
      "execution_count": 10,
      "metadata": {
        "id": "aKlnIozA4eQO",
        "outputId": "fd09bc1f-adb1-4511-f6ce-492a6af570c0"
      },
      "outputs": [
        {
          "ename": "IndentationError",
          "evalue": "expected an indented block (1114530593.py, line 5)",
          "output_type": "error",
          "traceback": [
            "\u001b[0;36m  Cell \u001b[0;32mIn[10], line 5\u001b[0;36m\u001b[0m\n\u001b[0;31m    except Exception as e:\u001b[0m\n\u001b[0m    ^\u001b[0m\n\u001b[0;31mIndentationError\u001b[0m\u001b[0;31m:\u001b[0m expected an indented block\n"
          ]
        }
      ],
      "source": [
        "import os\n",
        "try:\n",
        "    # create here your folder\n",
        "    # os.makedirs(name='')\n",
        "except Exception as e:\n",
        "    print(e)\n"
      ]
    }
  ],
  "metadata": {
    "accelerator": "GPU",
    "colab": {
      "name": "Data Practitioner Jupyter Notebook.ipynb",
      "provenance": [],
      "toc_visible": true
    },
    "kernelspec": {
      "display_name": "Python 3",
      "language": "python",
      "name": "python3"
    },
    "language_info": {
      "codemirror_mode": {
        "name": "ipython",
        "version": 3
      },
      "file_extension": ".py",
      "mimetype": "text/x-python",
      "name": "python",
      "nbconvert_exporter": "python",
      "pygments_lexer": "ipython3",
      "version": "3.8.18"
    },
    "orig_nbformat": 2
  },
  "nbformat": 4,
  "nbformat_minor": 2
}
